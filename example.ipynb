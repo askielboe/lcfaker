{
 "cells": [
  {
   "cell_type": "code",
   "execution_count": null,
   "metadata": {
    "collapsed": true
   },
   "outputs": [],
   "source": [
    "from copy import deepcopy\n",
    "from lcgenerators import syntheticLightCurveMacLeod\n",
    "from Reverberation import Reverberation"
   ]
  },
  {
   "cell_type": "code",
   "execution_count": null,
   "metadata": {
    "collapsed": true
   },
   "outputs": [],
   "source": [
    "# Generate a synthetic continuum light curve using the McLeod et al. prescription\n",
    "lc_cont = syntheticLightCurveMacLeod()"
   ]
  },
  {
   "cell_type": "code",
   "execution_count": null,
   "metadata": {
    "collapsed": false
   },
   "outputs": [],
   "source": [
    "# Generate an emission line light curve by smoothing the continuum\n",
    "# deepcopy is required in order not to overwrite the continuum light curve\n",
    "lc_line = deepcopy(lc_cont)\n",
    "\n",
    "# mu is the time-delay of the peak of the smoothing kernel\n",
    "# You can inspect the kernels by using the plot_kernel=True keyword argument\n",
    "\n",
    "#lc_line.smooth(mu=5.0, type='tophat', plot_kernel=True)\n",
    "#lc_line.smooth(mu=5.0, type='gaus', plot_kernel=True)\n",
    "lc_line.smooth(mu=5.0, type='gamma_distribution', plot_kernel=True)\n",
    "#lc_line.smooth(type='mrk335', plot_kernel=True)"
   ]
  },
  {
   "cell_type": "code",
   "execution_count": null,
   "metadata": {
    "collapsed": false
   },
   "outputs": [],
   "source": [
    "# Add some (observational) noise to the light curves\n",
    "lc_cont.addNoiseGaussian(snr=20)\n",
    "lc_line.addNoiseGaussian(snr=20)"
   ]
  },
  {
   "cell_type": "code",
   "execution_count": null,
   "metadata": {
    "collapsed": false
   },
   "outputs": [],
   "source": [
    "# Plot and analyze both light curves using the Reverberation class\n",
    "reverb = Reverberation(lc_cont, lc_line)\n",
    "reverb.plot()"
   ]
  },
  {
   "cell_type": "code",
   "execution_count": null,
   "metadata": {
    "collapsed": false
   },
   "outputs": [],
   "source": [
    "# Generate and plot the cross correlation function\n",
    "ccf = reverb.getCrossCorrelationFunction()\n",
    "ccf.plot()"
   ]
  },
  {
   "cell_type": "code",
   "execution_count": null,
   "metadata": {
    "collapsed": false
   },
   "outputs": [],
   "source": [
    "# Get the lag as estimated from the peak of the CCF\n",
    "ccf.getLag()"
   ]
  }
 ],
 "metadata": {
  "kernelspec": {
   "display_name": "Python 2",
   "language": "python",
   "name": "python2"
  },
  "language_info": {
   "codemirror_mode": {
    "name": "ipython",
    "version": 2
   },
   "file_extension": ".py",
   "mimetype": "text/x-python",
   "name": "python",
   "nbconvert_exporter": "python",
   "pygments_lexer": "ipython2",
   "version": "2.7.10"
  }
 },
 "nbformat": 4,
 "nbformat_minor": 0
}
